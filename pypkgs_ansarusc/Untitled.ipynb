{
 "cells": [
  {
   "cell_type": "code",
   "execution_count": null,
   "metadata": {},
   "outputs": [],
   "source": [
    "\n",
    "\n",
    "def catbind(a, b):\n",
    "    \"\"\"\n",
    "    Concatenates two pandas categoricals.\n",
    "\n",
    "    Parameters\n",
    "    ----------\n",
    "    a : pandas.core.arrays.categorical.Categorical\n",
    "      A pandas categorical.\n",
    "    b : pandas.core.arrays.categorical.Categorical\n",
    "      A pandas categorical that you wish to concatenate to a.\n",
    "\n",
    "    Returns\n",
    "    -------\n",
    "    pandas.core.arrays.categorical.Categorical\n",
    "      The new concatenated pandas categorical.\n",
    "\n",
    "    Examples\n",
    "    --------\n",
    "    >>> from pypkgs import pypkgs\n",
    "    >>> a = pd.Categorical([\"character\", \"hits\", \"your\", \"eyeballs\"])\n",
    "    >>> b = pd.Categorical([\"but\", \"integer\", \"where it\", \"counts\"])\n",
    "    >>> pypkgs.catbind(a, b)\n",
    "    [character, hits, your, eyeballs, but, integer, where it, counts]\n",
    "    Categories (8, object): [but, character, counts,\n",
    "    eyeballs, hits, integer, where it, your]\n",
    "    \"\"\"\n",
    "    return(1)\n"
   ]
  }
 ],
 "metadata": {
  "kernelspec": {
   "display_name": "Python [conda env:563]",
   "language": "python",
   "name": "conda-env-563-py"
  },
  "language_info": {
   "codemirror_mode": {
    "name": "ipython",
    "version": 3
   },
   "file_extension": ".py",
   "mimetype": "text/x-python",
   "name": "python",
   "nbconvert_exporter": "python",
   "pygments_lexer": "ipython3",
   "version": "3.7.10"
  }
 },
 "nbformat": 4,
 "nbformat_minor": 4
}
